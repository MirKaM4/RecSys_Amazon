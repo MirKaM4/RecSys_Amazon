{
 "cells": [
  {
   "cell_type": "code",
   "execution_count": 59,
   "metadata": {},
   "outputs": [],
   "source": [
    "import numpy as np\n",
    "import pandas as pd\n",
    "import turicreate as tc"
   ]
  },
  {
   "cell_type": "code",
   "execution_count": 60,
   "metadata": {},
   "outputs": [],
   "source": [
    "def drop_nan_cols(df, threshold=0.8):\n",
    "    important_meta_cols = ['also_buy', 'also_view', 'asin', 'brand', 'description', 'feature', 'main_cat', 'similar_item', 'title']\n",
    "\n",
    "    drop_cols = []\n",
    "    for col in df.columns:\n",
    "        if df[col].isna().sum() > len(df)*threshold:\n",
    "            if col not in important_meta_cols:\n",
    "                drop_cols.append(col)\n",
    "                \n",
    "    print('\\nremoving columns with more then {0} missing...', threshold)\n",
    "    print(drop_cols)\n",
    "    df = df.drop(drop_cols, axis=1)\n",
    "    return df\n",
    "\n",
    "def remove_long_titles(df):\n",
    "    old_len = len(df)\n",
    "    df['val_length'] = df['title'].str.len()\n",
    "    print('val length: ', df['val_length'] )\n",
    "    df = df[df['val_length']  < 300]\n",
    "    print('===========================================================')\n",
    "    print('Removed ' + str(old_len-len(df)) + ' rows')\n",
    "    print('===========================================================')\n",
    "    return df\n",
    "\n",
    "def preprocess_sf(sf):      \n",
    "    df = sf.to_dataframe()\n",
    "    print('\\nds length: ', len(df))\n",
    "    \n",
    "    print('\\nisna:')\n",
    "    print(df.isna().sum())\n",
    "    \n",
    "    df = drop_nan_cols(df) \n",
    "    \n",
    "    if 'title' in df:        \n",
    "        df = remove_long_titles(df)\n",
    "     \n",
    "    sf = tc.SFrame(df)\n",
    "    return sf\n",
    "\n",
    "def get_mutual_columns(meta_paths):\n",
    "    meta_cols = {}\n",
    "    sf_list = []\n",
    "\n",
    "    # get columns from all datasets\n",
    "    for path in meta_paths:\n",
    "        key = path.split('.')[0][5:]\n",
    "        sf = tc.SFrame.read_json(path, orient='lines')      \n",
    "        sf = preprocess_sf(sf)\n",
    "        sf_list.append(sf)\n",
    "        meta_cols[key] = sf.column_names()\n",
    "\n",
    "    # take first ds's columns and then check for the instersection of the columns\n",
    "    tmp = meta_cols[meta_paths[0].split('.')[0][5:]]\n",
    "    for col in meta_cols:\n",
    "        tmp = list(set(tmp).intersection(meta_cols[col]))\n",
    "    return sf_list, tmp\n",
    "\n",
    "def remove_cols(sf, important_cols, mutual_cols):\n",
    "    for col in sf.column_names():\n",
    "        if col not in mutual_cols or col not in important_cols:\n",
    "            sf = sf.remove_column(col)\n",
    "    return sf"
   ]
  },
  {
   "cell_type": "code",
   "execution_count": 69,
   "metadata": {},
   "outputs": [],
   "source": [
    "# example\n",
    "paths = ['ds_5/Video_Games_5.json', 'ds_5/Software_5.json', 'ds_5/Movies_and_TV_5.json']\n",
    "# meta_paths = ['meta_Video_Games.json', 'meta_Software.json', 'meta_Movies_and_TV.json']\n",
    "important_cols = ['asin', 'overall', 'reviewText', 'reviewerID', 'summary', 'unixReviewTime']"
   ]
  },
  {
   "cell_type": "code",
   "execution_count": 66,
   "metadata": {},
   "outputs": [
    {
     "data": {
      "text/html": [
       "<pre>Finished parsing file /home/mirjana/Downloads/ds_5/Video_Games_5.json</pre>"
      ],
      "text/plain": [
       "Finished parsing file /home/mirjana/Downloads/ds_5/Video_Games_5.json"
      ]
     },
     "metadata": {},
     "output_type": "display_data"
    },
    {
     "data": {
      "text/html": [
       "<pre>Parsing completed. Parsed 100 lines in 0.376424 secs.</pre>"
      ],
      "text/plain": [
       "Parsing completed. Parsed 100 lines in 0.376424 secs."
      ]
     },
     "metadata": {},
     "output_type": "display_data"
    },
    {
     "name": "stdout",
     "output_type": "stream",
     "text": [
      "------------------------------------------------------\n",
      "Inferred types from first 100 line(s) of file as \n",
      "column_type_hints=[dict]\n",
      "If parsing fails due to incorrect types, you can correct\n",
      "the inferred type list above and pass it to read_csv in\n",
      "the column_type_hints argument\n",
      "------------------------------------------------------\n"
     ]
    },
    {
     "data": {
      "text/html": [
       "<pre>Read 43404 lines. Lines per second: 56428.9</pre>"
      ],
      "text/plain": [
       "Read 43404 lines. Lines per second: 56428.9"
      ]
     },
     "metadata": {},
     "output_type": "display_data"
    },
    {
     "data": {
      "text/html": [
       "<pre>Finished parsing file /home/mirjana/Downloads/ds_5/Video_Games_5.json</pre>"
      ],
      "text/plain": [
       "Finished parsing file /home/mirjana/Downloads/ds_5/Video_Games_5.json"
      ]
     },
     "metadata": {},
     "output_type": "display_data"
    },
    {
     "data": {
      "text/html": [
       "<pre>Parsing completed. Parsed 497577 lines in 4.01474 secs.</pre>"
      ],
      "text/plain": [
       "Parsing completed. Parsed 497577 lines in 4.01474 secs."
      ]
     },
     "metadata": {},
     "output_type": "display_data"
    },
    {
     "name": "stdout",
     "output_type": "stream",
     "text": [
      "\n",
      "ds length:  497577\n",
      "\n",
      "isna:\n",
      "asin                   0\n",
      "image             493943\n",
      "overall                0\n",
      "reviewText           158\n",
      "reviewTime             0\n",
      "reviewerID             0\n",
      "reviewerName          76\n",
      "style             208340\n",
      "summary              109\n",
      "unixReviewTime         0\n",
      "verified               0\n",
      "vote              389784\n",
      "dtype: int64\n",
      "\n",
      "removing columns with more then {0} missing... 0.8\n",
      "['image']\n"
     ]
    },
    {
     "data": {
      "text/html": [
       "<pre>Finished parsing file /home/mirjana/Downloads/ds_5/Software_5.json</pre>"
      ],
      "text/plain": [
       "Finished parsing file /home/mirjana/Downloads/ds_5/Software_5.json"
      ]
     },
     "metadata": {},
     "output_type": "display_data"
    },
    {
     "data": {
      "text/html": [
       "<pre>Parsing completed. Parsed 100 lines in 0.109455 secs.</pre>"
      ],
      "text/plain": [
       "Parsing completed. Parsed 100 lines in 0.109455 secs."
      ]
     },
     "metadata": {},
     "output_type": "display_data"
    },
    {
     "name": "stdout",
     "output_type": "stream",
     "text": [
      "------------------------------------------------------\n",
      "Inferred types from first 100 line(s) of file as \n",
      "column_type_hints=[dict]\n",
      "If parsing fails due to incorrect types, you can correct\n",
      "the inferred type list above and pass it to read_csv in\n",
      "the column_type_hints argument\n",
      "------------------------------------------------------\n"
     ]
    },
    {
     "data": {
      "text/html": [
       "<pre>Finished parsing file /home/mirjana/Downloads/ds_5/Software_5.json</pre>"
      ],
      "text/plain": [
       "Finished parsing file /home/mirjana/Downloads/ds_5/Software_5.json"
      ]
     },
     "metadata": {},
     "output_type": "display_data"
    },
    {
     "data": {
      "text/html": [
       "<pre>Parsing completed. Parsed 12805 lines in 0.182687 secs.</pre>"
      ],
      "text/plain": [
       "Parsing completed. Parsed 12805 lines in 0.182687 secs."
      ]
     },
     "metadata": {},
     "output_type": "display_data"
    },
    {
     "name": "stdout",
     "output_type": "stream",
     "text": [
      "\n",
      "ds length:  12805\n",
      "\n",
      "isna:\n",
      "asin                  0\n",
      "image             12734\n",
      "overall               0\n",
      "reviewText            1\n",
      "reviewTime            0\n",
      "reviewerID            0\n",
      "reviewerName          9\n",
      "style              5644\n",
      "summary               6\n",
      "unixReviewTime        0\n",
      "verified              0\n",
      "vote               8903\n",
      "dtype: int64\n",
      "\n",
      "removing columns with more then {0} missing... 0.8\n",
      "['image']\n"
     ]
    },
    {
     "data": {
      "text/html": [
       "<pre>Finished parsing file /home/mirjana/Downloads/ds_5/Movies_and_TV_5.json</pre>"
      ],
      "text/plain": [
       "Finished parsing file /home/mirjana/Downloads/ds_5/Movies_and_TV_5.json"
      ]
     },
     "metadata": {},
     "output_type": "display_data"
    },
    {
     "data": {
      "text/html": [
       "<pre>Parsing completed. Parsed 100 lines in 0.537077 secs.</pre>"
      ],
      "text/plain": [
       "Parsing completed. Parsed 100 lines in 0.537077 secs."
      ]
     },
     "metadata": {},
     "output_type": "display_data"
    },
    {
     "name": "stdout",
     "output_type": "stream",
     "text": [
      "------------------------------------------------------\n",
      "Inferred types from first 100 line(s) of file as \n",
      "column_type_hints=[dict]\n",
      "If parsing fails due to incorrect types, you can correct\n",
      "the inferred type list above and pass it to read_csv in\n",
      "the column_type_hints argument\n",
      "------------------------------------------------------\n"
     ]
    },
    {
     "data": {
      "text/html": [
       "<pre>Read 66024 lines. Lines per second: 58306.4</pre>"
      ],
      "text/plain": [
       "Read 66024 lines. Lines per second: 58306.4"
      ]
     },
     "metadata": {},
     "output_type": "display_data"
    },
    {
     "data": {
      "text/html": [
       "<pre>Read 620463 lines. Lines per second: 98827.2</pre>"
      ],
      "text/plain": [
       "Read 620463 lines. Lines per second: 98827.2"
      ]
     },
     "metadata": {},
     "output_type": "display_data"
    },
    {
     "data": {
      "text/html": [
       "<pre>Read 1136996 lines. Lines per second: 100909</pre>"
      ],
      "text/plain": [
       "Read 1136996 lines. Lines per second: 100909"
      ]
     },
     "metadata": {},
     "output_type": "display_data"
    },
    {
     "data": {
      "text/html": [
       "<pre>Read 1737106 lines. Lines per second: 103095</pre>"
      ],
      "text/plain": [
       "Read 1737106 lines. Lines per second: 103095"
      ]
     },
     "metadata": {},
     "output_type": "display_data"
    },
    {
     "data": {
      "text/html": [
       "<pre>Read 2377665 lines. Lines per second: 107454</pre>"
      ],
      "text/plain": [
       "Read 2377665 lines. Lines per second: 107454"
      ]
     },
     "metadata": {},
     "output_type": "display_data"
    },
    {
     "data": {
      "text/html": [
       "<pre>Read 3058546 lines. Lines per second: 112461</pre>"
      ],
      "text/plain": [
       "Read 3058546 lines. Lines per second: 112461"
      ]
     },
     "metadata": {},
     "output_type": "display_data"
    },
    {
     "data": {
      "text/html": [
       "<pre>Finished parsing file /home/mirjana/Downloads/ds_5/Movies_and_TV_5.json</pre>"
      ],
      "text/plain": [
       "Finished parsing file /home/mirjana/Downloads/ds_5/Movies_and_TV_5.json"
      ]
     },
     "metadata": {},
     "output_type": "display_data"
    },
    {
     "data": {
      "text/html": [
       "<pre>Parsing completed. Parsed 3410019 lines in 30.1779 secs.</pre>"
      ],
      "text/plain": [
       "Parsing completed. Parsed 3410019 lines in 30.1779 secs."
      ]
     },
     "metadata": {},
     "output_type": "display_data"
    },
    {
     "name": "stdout",
     "output_type": "stream",
     "text": [
      "\n",
      "ds length:  3410019\n",
      "\n",
      "isna:\n",
      "asin                    0\n",
      "image             3403048\n",
      "overall                 0\n",
      "reviewText           1581\n",
      "reviewTime              0\n",
      "reviewerID              0\n",
      "reviewerName           82\n",
      "style              174207\n",
      "summary               640\n",
      "unixReviewTime          0\n",
      "verified                0\n",
      "vote              2768010\n",
      "dtype: int64\n",
      "\n",
      "removing columns with more then {0} missing... 0.8\n",
      "['image', 'vote']\n"
     ]
    }
   ],
   "source": [
    "sf_list, mutual_cols = get_mutual_columns(paths)"
   ]
  },
  {
   "cell_type": "code",
   "execution_count": 67,
   "metadata": {},
   "outputs": [],
   "source": [
    "games_5 = sf_list[0]\n",
    "sw_5 = sf_list[1]\n",
    "movies_5 = sf_list[2]"
   ]
  },
  {
   "cell_type": "code",
   "execution_count": 70,
   "metadata": {},
   "outputs": [],
   "source": [
    "games_5 = remove_cols(games_5, important_cols, mutual_cols)\n",
    "sw_5 = remove_cols(sw_5, important_cols, mutual_cols)\n",
    "movies_5 = remove_cols(movies_5, important_cols, mutual_cols)"
   ]
  },
  {
   "cell_type": "code",
   "execution_count": 71,
   "metadata": {},
   "outputs": [],
   "source": [
    "games_sw_movies = games_5.append(sw_5)\n",
    "games_sw_movies = games_sw_movies.append(movies_5)\n",
    "# games_sw_movies.export_json('games_sw_movies.json')"
   ]
  },
  {
   "cell_type": "code",
   "execution_count": 72,
   "metadata": {},
   "outputs": [
    {
     "data": {
      "text/html": [
       "<div style=\"max-height:1000px;max-width:1500px;overflow:auto;\"><table frame=\"box\" rules=\"cols\">\n",
       "    <tr>\n",
       "        <th style=\"padding-left: 1em; padding-right: 1em; text-align: center\">asin</th>\n",
       "        <th style=\"padding-left: 1em; padding-right: 1em; text-align: center\">overall</th>\n",
       "        <th style=\"padding-left: 1em; padding-right: 1em; text-align: center\">reviewText</th>\n",
       "        <th style=\"padding-left: 1em; padding-right: 1em; text-align: center\">reviewerID</th>\n",
       "        <th style=\"padding-left: 1em; padding-right: 1em; text-align: center\">summary</th>\n",
       "        <th style=\"padding-left: 1em; padding-right: 1em; text-align: center\">unixReviewTime</th>\n",
       "    </tr>\n",
       "    <tr>\n",
       "        <td style=\"padding-left: 1em; padding-right: 1em; text-align: center; vertical-align: top\">0700026657</td>\n",
       "        <td style=\"padding-left: 1em; padding-right: 1em; text-align: center; vertical-align: top\">5.0</td>\n",
       "        <td style=\"padding-left: 1em; padding-right: 1em; text-align: center; vertical-align: top\">This game is a bit hard<br>to get the hang of, but ...</td>\n",
       "        <td style=\"padding-left: 1em; padding-right: 1em; text-align: center; vertical-align: top\">A1HP7NVNPFMA4N</td>\n",
       "        <td style=\"padding-left: 1em; padding-right: 1em; text-align: center; vertical-align: top\">but when you do it&#x27;s<br>great. ...</td>\n",
       "        <td style=\"padding-left: 1em; padding-right: 1em; text-align: center; vertical-align: top\">1445040000</td>\n",
       "    </tr>\n",
       "    <tr>\n",
       "        <td style=\"padding-left: 1em; padding-right: 1em; text-align: center; vertical-align: top\">0700026657</td>\n",
       "        <td style=\"padding-left: 1em; padding-right: 1em; text-align: center; vertical-align: top\">4.0</td>\n",
       "        <td style=\"padding-left: 1em; padding-right: 1em; text-align: center; vertical-align: top\">I played it a while but<br>it was alright. The s ...</td>\n",
       "        <td style=\"padding-left: 1em; padding-right: 1em; text-align: center; vertical-align: top\">A1JGAP0185YJI6</td>\n",
       "        <td style=\"padding-left: 1em; padding-right: 1em; text-align: center; vertical-align: top\">But in spite of that it<br>was fun, I liked it ...</td>\n",
       "        <td style=\"padding-left: 1em; padding-right: 1em; text-align: center; vertical-align: top\">1437955200</td>\n",
       "    </tr>\n",
       "    <tr>\n",
       "        <td style=\"padding-left: 1em; padding-right: 1em; text-align: center; vertical-align: top\">0700026657</td>\n",
       "        <td style=\"padding-left: 1em; padding-right: 1em; text-align: center; vertical-align: top\">3.0</td>\n",
       "        <td style=\"padding-left: 1em; padding-right: 1em; text-align: center; vertical-align: top\">ok game.</td>\n",
       "        <td style=\"padding-left: 1em; padding-right: 1em; text-align: center; vertical-align: top\">A1YJWEXHQBWK2B</td>\n",
       "        <td style=\"padding-left: 1em; padding-right: 1em; text-align: center; vertical-align: top\">Three Stars</td>\n",
       "        <td style=\"padding-left: 1em; padding-right: 1em; text-align: center; vertical-align: top\">1424649600</td>\n",
       "    </tr>\n",
       "    <tr>\n",
       "        <td style=\"padding-left: 1em; padding-right: 1em; text-align: center; vertical-align: top\">0700026657</td>\n",
       "        <td style=\"padding-left: 1em; padding-right: 1em; text-align: center; vertical-align: top\">2.0</td>\n",
       "        <td style=\"padding-left: 1em; padding-right: 1em; text-align: center; vertical-align: top\">found the game a bit too<br>complicated, not what I ...</td>\n",
       "        <td style=\"padding-left: 1em; padding-right: 1em; text-align: center; vertical-align: top\">A2204E1TH211HT</td>\n",
       "        <td style=\"padding-left: 1em; padding-right: 1em; text-align: center; vertical-align: top\">Two Stars</td>\n",
       "        <td style=\"padding-left: 1em; padding-right: 1em; text-align: center; vertical-align: top\">1424390400</td>\n",
       "    </tr>\n",
       "    <tr>\n",
       "        <td style=\"padding-left: 1em; padding-right: 1em; text-align: center; vertical-align: top\">0700026657</td>\n",
       "        <td style=\"padding-left: 1em; padding-right: 1em; text-align: center; vertical-align: top\">5.0</td>\n",
       "        <td style=\"padding-left: 1em; padding-right: 1em; text-align: center; vertical-align: top\">great game, I love it and<br>have played it since its ...</td>\n",
       "        <td style=\"padding-left: 1em; padding-right: 1em; text-align: center; vertical-align: top\">A2RF5B5H74JLPE</td>\n",
       "        <td style=\"padding-left: 1em; padding-right: 1em; text-align: center; vertical-align: top\">love this game</td>\n",
       "        <td style=\"padding-left: 1em; padding-right: 1em; text-align: center; vertical-align: top\">1419465600</td>\n",
       "    </tr>\n",
       "    <tr>\n",
       "        <td style=\"padding-left: 1em; padding-right: 1em; text-align: center; vertical-align: top\">0700026657</td>\n",
       "        <td style=\"padding-left: 1em; padding-right: 1em; text-align: center; vertical-align: top\">4.0</td>\n",
       "        <td style=\"padding-left: 1em; padding-right: 1em; text-align: center; vertical-align: top\">i liked a lot some time<br>that i haven&#x27;t play a ...</td>\n",
       "        <td style=\"padding-left: 1em; padding-right: 1em; text-align: center; vertical-align: top\">A11V6ZJ2FVQY1D</td>\n",
       "        <td style=\"padding-left: 1em; padding-right: 1em; text-align: center; vertical-align: top\">Anno 2070</td>\n",
       "        <td style=\"padding-left: 1em; padding-right: 1em; text-align: center; vertical-align: top\">1415836800</td>\n",
       "    </tr>\n",
       "    <tr>\n",
       "        <td style=\"padding-left: 1em; padding-right: 1em; text-align: center; vertical-align: top\">0700026657</td>\n",
       "        <td style=\"padding-left: 1em; padding-right: 1em; text-align: center; vertical-align: top\">1.0</td>\n",
       "        <td style=\"padding-left: 1em; padding-right: 1em; text-align: center; vertical-align: top\">I&#x27;m an avid gamer, but<br>Anno 2070 is an INSUL ...</td>\n",
       "        <td style=\"padding-left: 1em; padding-right: 1em; text-align: center; vertical-align: top\">A1KXJ1ELZIU05C</td>\n",
       "        <td style=\"padding-left: 1em; padding-right: 1em; text-align: center; vertical-align: top\">Avoid This Game - Filled<br>with Bugs ...</td>\n",
       "        <td style=\"padding-left: 1em; padding-right: 1em; text-align: center; vertical-align: top\">1406937600</td>\n",
       "    </tr>\n",
       "    <tr>\n",
       "        <td style=\"padding-left: 1em; padding-right: 1em; text-align: center; vertical-align: top\">0700026657</td>\n",
       "        <td style=\"padding-left: 1em; padding-right: 1em; text-align: center; vertical-align: top\">5.0</td>\n",
       "        <td style=\"padding-left: 1em; padding-right: 1em; text-align: center; vertical-align: top\">I bought this game<br>thinking it would be ...</td>\n",
       "        <td style=\"padding-left: 1em; padding-right: 1em; text-align: center; vertical-align: top\">A1WK5I4874S3O2</td>\n",
       "        <td style=\"padding-left: 1em; padding-right: 1em; text-align: center; vertical-align: top\">A very good game balance<br>of skill with depth of ...</td>\n",
       "        <td style=\"padding-left: 1em; padding-right: 1em; text-align: center; vertical-align: top\">1393804800</td>\n",
       "    </tr>\n",
       "    <tr>\n",
       "        <td style=\"padding-left: 1em; padding-right: 1em; text-align: center; vertical-align: top\">0700026657</td>\n",
       "        <td style=\"padding-left: 1em; padding-right: 1em; text-align: center; vertical-align: top\">5.0</td>\n",
       "        <td style=\"padding-left: 1em; padding-right: 1em; text-align: center; vertical-align: top\">I have played the old<br>anno 1701 AND 1503.   ...</td>\n",
       "        <td style=\"padding-left: 1em; padding-right: 1em; text-align: center; vertical-align: top\">AV969NA4CBP10</td>\n",
       "        <td style=\"padding-left: 1em; padding-right: 1em; text-align: center; vertical-align: top\">Anno 2070 more like anno<br>1701 ...</td>\n",
       "        <td style=\"padding-left: 1em; padding-right: 1em; text-align: center; vertical-align: top\">1392940800</td>\n",
       "    </tr>\n",
       "    <tr>\n",
       "        <td style=\"padding-left: 1em; padding-right: 1em; text-align: center; vertical-align: top\">0700026657</td>\n",
       "        <td style=\"padding-left: 1em; padding-right: 1em; text-align: center; vertical-align: top\">4.0</td>\n",
       "        <td style=\"padding-left: 1em; padding-right: 1em; text-align: center; vertical-align: top\">I liked it and had fun<br>with it, played for a ...</td>\n",
       "        <td style=\"padding-left: 1em; padding-right: 1em; text-align: center; vertical-align: top\">A1EO9BFUHTGWKZ</td>\n",
       "        <td style=\"padding-left: 1em; padding-right: 1em; text-align: center; vertical-align: top\">Pretty fun</td>\n",
       "        <td style=\"padding-left: 1em; padding-right: 1em; text-align: center; vertical-align: top\">1372291200</td>\n",
       "    </tr>\n",
       "</table>\n",
       "[3920401 rows x 6 columns]<br/>Note: Only the head of the SFrame is printed.<br/>You can use print_rows(num_rows=m, num_columns=n) to print more rows and columns.\n",
       "</div>"
      ],
      "text/plain": [
       "Columns:\n",
       "\tasin\tstr\n",
       "\toverall\tfloat\n",
       "\treviewText\tstr\n",
       "\treviewerID\tstr\n",
       "\tsummary\tstr\n",
       "\tunixReviewTime\tint\n",
       "\n",
       "Rows: 3920401\n",
       "\n",
       "Data:\n",
       "+------------+---------+-------------------------------+----------------+\n",
       "|    asin    | overall |           reviewText          |   reviewerID   |\n",
       "+------------+---------+-------------------------------+----------------+\n",
       "| 0700026657 |   5.0   | This game is a bit hard to... | A1HP7NVNPFMA4N |\n",
       "| 0700026657 |   4.0   | I played it a while but it... | A1JGAP0185YJI6 |\n",
       "| 0700026657 |   3.0   |            ok game.           | A1YJWEXHQBWK2B |\n",
       "| 0700026657 |   2.0   | found the game a bit too c... | A2204E1TH211HT |\n",
       "| 0700026657 |   5.0   | great game, I love it and ... | A2RF5B5H74JLPE |\n",
       "| 0700026657 |   4.0   | i liked a lot some time th... | A11V6ZJ2FVQY1D |\n",
       "| 0700026657 |   1.0   | I'm an avid gamer, but Ann... | A1KXJ1ELZIU05C |\n",
       "| 0700026657 |   5.0   | I bought this game thinkin... | A1WK5I4874S3O2 |\n",
       "| 0700026657 |   5.0   | I have played the old anno... | AV969NA4CBP10  |\n",
       "| 0700026657 |   4.0   | I liked it and had fun wit... | A1EO9BFUHTGWKZ |\n",
       "+------------+---------+-------------------------------+----------------+\n",
       "+-------------------------------+----------------+\n",
       "|            summary            | unixReviewTime |\n",
       "+-------------------------------+----------------+\n",
       "|  but when you do it's great.  |   1445040000   |\n",
       "| But in spite of that it wa... |   1437955200   |\n",
       "|          Three Stars          |   1424649600   |\n",
       "|           Two Stars           |   1424390400   |\n",
       "|         love this game        |   1419465600   |\n",
       "|           Anno 2070           |   1415836800   |\n",
       "| Avoid This Game - Filled w... |   1406937600   |\n",
       "| A very good game balance o... |   1393804800   |\n",
       "| Anno 2070 more like anno 1701 |   1392940800   |\n",
       "|           Pretty fun          |   1372291200   |\n",
       "+-------------------------------+----------------+\n",
       "[3920401 rows x 6 columns]\n",
       "Note: Only the head of the SFrame is printed.\n",
       "You can use print_rows(num_rows=m, num_columns=n) to print more rows and columns."
      ]
     },
     "execution_count": 72,
     "metadata": {},
     "output_type": "execute_result"
    }
   ],
   "source": [
    "games_sw_movies"
   ]
  },
  {
   "cell_type": "code",
   "execution_count": null,
   "metadata": {},
   "outputs": [
    {
     "name": "stdout",
     "output_type": "stream",
     "text": [
      "420\n"
     ]
    }
   ],
   "source": [
    "# check for mutual users\n",
    "print(len(np.intersect1d(games_5['reviewerID'], sw_5['reviewerID'])))\n",
    "print(len(np.intersect1d(movies_5['reviewerID'], sw_5['reviewerID'])))\n",
    "print(len(np.intersect1d(games_5['reviewerID'], movies_5['reviewerID'])))"
   ]
  },
  {
   "cell_type": "code",
   "execution_count": null,
   "metadata": {},
   "outputs": [],
   "source": []
  }
 ],
 "metadata": {
  "kernelspec": {
   "display_name": "Python 3",
   "language": "python",
   "name": "python3"
  },
  "language_info": {
   "codemirror_mode": {
    "name": "ipython",
    "version": 3
   },
   "file_extension": ".py",
   "mimetype": "text/x-python",
   "name": "python",
   "nbconvert_exporter": "python",
   "pygments_lexer": "ipython3",
   "version": "3.7.6"
  }
 },
 "nbformat": 4,
 "nbformat_minor": 2
}
